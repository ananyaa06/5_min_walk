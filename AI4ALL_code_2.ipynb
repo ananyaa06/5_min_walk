{
  "nbformat": 4,
  "nbformat_minor": 0,
  "metadata": {
    "colab": {
      "name": "AI4ALL_code.ipynb",
      "provenance": [],
      "collapsed_sections": [],
      "authorship_tag": "ABX9TyNQ31wVASZ/tRXf97yThj53",
      "include_colab_link": true
    },
    "kernelspec": {
      "name": "python3",
      "display_name": "Python 3"
    },
    "language_info": {
      "name": "python"
    }
  },
  "cells": [
    {
      "cell_type": "markdown",
      "metadata": {
        "id": "view-in-github",
        "colab_type": "text"
      },
      "source": [
        "<a href=\"https://colab.research.google.com/github/ananyaa06/5_min_walk/blob/main/AI4ALL_code_2.ipynb\" target=\"_parent\"><img src=\"https://colab.research.google.com/assets/colab-badge.svg\" alt=\"Open In Colab\"/></a>"
      ]
    },
    {
      "cell_type": "code",
      "execution_count": null,
      "metadata": {
        "id": "hOjLTGOD6HNr"
      },
      "outputs": [],
      "source": [
        "import numpy as np\n",
        "import matplotlib.pyplot as plt\n",
        "import pandas as pd"
      ]
    },
    {
      "cell_type": "code",
      "source": [
        "dataset = pd.read_csv('college_data.csv')\n",
        "names = dataset[dataset.columns[0]]\n",
        "dataset.drop(columns=dataset.columns[0], axis=1, inplace=True)\n",
        "dataset.head()"
      ],
      "metadata": {
        "id": "Puw2ApWk-1R5"
      },
      "execution_count": null,
      "outputs": []
    },
    {
      "cell_type": "code",
      "source": [
        "from sklearn.preprocessing import LabelEncoder\n",
        "le = LabelEncoder()\n",
        "le_count = 0\n",
        "for col in dataset.columns[1:]:\n",
        "    if dataset[col].dtype == 'object':\n",
        "        if len(list(dataset[col].unique())) <= 2:\n",
        "            le.fit(dataset[col])\n",
        "            dataset[col] = le.transform(dataset[col])\n",
        "            le_count += 1\n",
        "print('{} columns were label encoded.'.format(le_count))"
      ],
      "metadata": {
        "id": "sEeiWtGYBS-g"
      },
      "execution_count": null,
      "outputs": []
    },
    {
      "cell_type": "code",
      "source": [
        "dataset.head()"
      ],
      "metadata": {
        "id": "D7cdmyFpCFbT"
      },
      "execution_count": null,
      "outputs": []
    },
    {
      "cell_type": "code",
      "source": [
        "from sklearn.compose import ColumnTransformer\n",
        "from sklearn.preprocessing import OneHotEncoder\n",
        "\n",
        "ct_count = 0\n",
        "for col in dataset.columns[1:]:\n",
        "    if dataset[col].dtype == 'object':\n",
        "        if len(list(dataset[col].unique())) >= 2:\n",
        "          dataset = pd.concat([dataset,pd.get_dummies(dataset[col], prefix=col)],axis=1)\n",
        "          dataset.drop([col],axis=1, inplace=True)\n",
        "          ct_count += 1\n",
        "print('{} columns were label encoded.'.format(ct_count))\n"
      ],
      "metadata": {
        "id": "1ZGvLC9pC_Tl"
      },
      "execution_count": null,
      "outputs": []
    },
    {
      "cell_type": "code",
      "source": [
        "dataset.head()"
      ],
      "metadata": {
        "id": "uYw5tDj5Fanv"
      },
      "execution_count": null,
      "outputs": []
    },
    {
      "cell_type": "code",
      "source": [
        "def range(col):\n",
        "  return dataset['ACT Composite 25th percentile score'].max()-dataset['ACT Composite 25th percentile score'].min()"
      ],
      "metadata": {
        "id": "FWZY6_S_SgT-"
      },
      "execution_count": null,
      "outputs": []
    },
    {
      "cell_type": "code",
      "source": [
        "from sklearn import preprocessing\n",
        "\n",
        "sc_count = 0\n",
        "for col in dataset.columns[1:]:\n",
        "  min_max_scaler = preprocessing.MinMaxScaler()\n",
        "  scaled = min_max_scaler.fit_transform(np.array(dataset[col]).reshape(-1,1))\n",
        "  dataset[col] = scaled\n",
        "  sc_count += 1\n",
        "print('{} columns were label encoded.'.format(sc_count))"
      ],
      "metadata": {
        "id": "IT9agc4QUgy2"
      },
      "execution_count": null,
      "outputs": []
    },
    {
      "cell_type": "code",
      "source": [
        "dataset.head()"
      ],
      "metadata": {
        "id": "8ojjUNuNVRUO"
      },
      "execution_count": null,
      "outputs": []
    }
  ]
}